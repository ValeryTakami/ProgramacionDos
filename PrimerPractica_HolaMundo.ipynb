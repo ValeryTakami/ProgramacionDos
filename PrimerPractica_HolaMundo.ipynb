{
  "nbformat": 4,
  "nbformat_minor": 0,
  "metadata": {
    "colab": {
      "name": "PrimerPractica_HolaMundo",
      "provenance": [],
      "authorship_tag": "ABX9TyPKsPJFJh5VAc/RFqNhjUbW",
      "include_colab_link": true
    },
    "kernelspec": {
      "name": "python3",
      "display_name": "Python 3"
    },
    "language_info": {
      "name": "python"
    }
  },
  "cells": [
    {
      "cell_type": "markdown",
      "metadata": {
        "id": "view-in-github",
        "colab_type": "text"
      },
      "source": [
        "<a href=\"https://colab.research.google.com/github/ValeryTakami/ProgramacionDos/blob/main/PrimerPractica_HolaMundo.ipynb\" target=\"_parent\"><img src=\"https://colab.research.google.com/assets/colab-badge.svg\" alt=\"Open In Colab\"/></a>"
      ]
    },
    {
      "cell_type": "markdown",
      "source": [
        "# Primer programa Hola Mundo\n",
        "\n",
        "solicitamos el nombre del usuario\n",
        "y lo saludamos\n",
        "\n",
        "Elaborado por:\n",
        "Valeria Hernandez Yañez\n",
        "23/08/2022"
      ],
      "metadata": {
        "id": "b7g4GJNB-_fS"
      }
    },
    {
      "cell_type": "code",
      "source": [
        "nombreAlumno = input(\"Dime tu nombre: \")\n",
        "print (\"Hola!!!\", nombreAlumno, \"Como estas?:3\")"
      ],
      "metadata": {
        "colab": {
          "base_uri": "https://localhost:8080/"
        },
        "id": "gokWefX7_IXM",
        "outputId": "3fe43377-d755-4287-e8b4-249ce4e600cc"
      },
      "execution_count": null,
      "outputs": [
        {
          "output_type": "stream",
          "name": "stdout",
          "text": [
            "Dime tu nombre: kori\n",
            "Hola!!! kori ,Como estas?:3\n"
          ]
        }
      ]
    }
  ]
}