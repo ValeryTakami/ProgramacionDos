{
  "nbformat": 4,
  "nbformat_minor": 0,
  "metadata": {
    "colab": {
      "name": "Ejemplos",
      "provenance": [],
      "authorship_tag": "ABX9TyPsUG4HVHBwJYUSzIVtPoFU",
      "include_colab_link": true
    },
    "kernelspec": {
      "name": "python3",
      "display_name": "Python 3"
    },
    "language_info": {
      "name": "python"
    }
  },
  "cells": [
    {
      "cell_type": "markdown",
      "metadata": {
        "id": "view-in-github",
        "colab_type": "text"
      },
      "source": [
        "<a href=\"https://colab.research.google.com/github/ValeryTakami/ProgramacionDos/blob/main/Ejemplos.ipynb\" target=\"_parent\"><img src=\"https://colab.research.google.com/assets/colab-badge.svg\" alt=\"Open In Colab\"/></a>"
      ]
    },
    {
      "cell_type": "markdown",
      "source": [
        "primer ejemplo en google colab\n",
        "\n",
        "elaborado por:\n",
        "valeria hernandez yañez\n",
        "22/08/22\n",
        "\n"
      ],
      "metadata": {
        "id": "UCc3HYESO-I3"
      }
    },
    {
      "cell_type": "code",
      "source": [
        "print (\"hola mundo\")\n"
      ],
      "metadata": {
        "colab": {
          "base_uri": "https://localhost:8080/"
        },
        "id": "II-BVJK1PF9l",
        "outputId": "50199afa-634a-4f40-efba-ec45135d2117"
      },
      "execution_count": null,
      "outputs": [
        {
          "output_type": "stream",
          "name": "stdout",
          "text": [
            "hola mundo\n"
          ]
        }
      ]
    },
    {
      "cell_type": "markdown",
      "source": [
        "# ejemplo de for"
      ],
      "metadata": {
        "id": "WUZdQi0_PdjS"
      }
    },
    {
      "cell_type": "code",
      "source": [
        "for i in [1, 2, 'one', 4,[5,6,7]]:\n",
        "    print(i, end=\", \") # prints: 1, 2, 3, 4,"
      ],
      "metadata": {
        "colab": {
          "base_uri": "https://localhost:8080/"
        },
        "id": "WlZa4OqkPhVS",
        "outputId": "94b77cef-c15a-4526-d1ff-9bd23971903c"
      },
      "execution_count": null,
      "outputs": [
        {
          "output_type": "stream",
          "name": "stdout",
          "text": [
            "1, 2, one, 4, [5, 6, 7], "
          ]
        }
      ]
    },
    {
      "cell_type": "code",
      "source": [
        "x=10\n",
        "for i in range(x):\n",
        "      print(i, end=\", \") # prints: 0, 1, 2, 3, 4,"
      ],
      "metadata": {
        "colab": {
          "base_uri": "https://localhost:8080/"
        },
        "id": "FyMC5qu5QXzJ",
        "outputId": "a48d0496-28e8-4371-b8e2-18ddd8e779ea"
      },
      "execution_count": null,
      "outputs": [
        {
          "output_type": "stream",
          "name": "stdout",
          "text": [
            "0, 1, 2, 3, 4, 5, 6, 7, 8, 9, "
          ]
        }
      ]
    },
    {
      "cell_type": "code",
      "source": [
        "for i in range(-1, 5):\n",
        "    print(i, end=\", \") # prints: -1, 0, 1, 2, 3, 4, "
      ],
      "metadata": {
        "id": "pYrKkh04Qaxv"
      },
      "execution_count": null,
      "outputs": []
    },
    {
      "cell_type": "markdown",
      "source": [
        "# Ejemplo de while"
      ],
      "metadata": {
        "id": "XPrjzHnD7vvD"
      }
    },
    {
      "cell_type": "code",
      "source": [
        "numero = 0\n",
        "while numero < 10:\n",
        "    print(f\"Numero es {numero}!\")\n",
        "    numero = numero + 1"
      ],
      "metadata": {
        "colab": {
          "base_uri": "https://localhost:8080/"
        },
        "id": "OIhdhj-K1g0z",
        "outputId": "435552db-087f-4c3d-98a8-2d5972a7b310"
      },
      "execution_count": null,
      "outputs": [
        {
          "output_type": "stream",
          "name": "stdout",
          "text": [
            "Numero es 0!\n",
            "Numero es 1!\n",
            "Numero es 2!\n",
            "Numero es 3!\n",
            "Numero es 4!\n",
            "Numero es 5!\n",
            "Numero es 6!\n",
            "Numero es 7!\n",
            "Numero es 8!\n",
            "Numero es 9!\n"
          ]
        }
      ]
    },
    {
      "cell_type": "markdown",
      "source": [
        "# Ejemplo de if"
      ],
      "metadata": {
        "id": "J0uRLFBf70m6"
      }
    },
    {
      "cell_type": "code",
      "source": [
        "numero = int(input(\"Escriba un número positivo: \"))\n",
        "if numero < 0:\n",
        "    print(\"¡Le he dicho que escriba un número positivo!\")\n",
        "print(f\"Ha escrito el número {numero}\")"
      ],
      "metadata": {
        "colab": {
          "base_uri": "https://localhost:8080/"
        },
        "id": "3Ycp7g7p20-r",
        "outputId": "71dbd386-1b8a-4113-f622-d1fd46271de6"
      },
      "execution_count": null,
      "outputs": [
        {
          "output_type": "stream",
          "name": "stdout",
          "text": [
            "Escriba un número positivo: 1\n",
            "Ha escrito el número 1\n"
          ]
        }
      ]
    },
    {
      "cell_type": "markdown",
      "source": [
        "Ejemplo de string"
      ],
      "metadata": {
        "id": "CTnBYS4i7_Mo"
      }
    },
    {
      "cell_type": "markdown",
      "source": [
        "Ejemplo de Try"
      ],
      "metadata": {
        "id": "5grqaWjJ9KIM"
      }
    },
    {
      "cell_type": "code",
      "source": [
        "try:\n",
        "    res = dividir(num, div)\n",
        "    print(res)\n",
        "except ZeroDivisionError:\n",
        "    print(\"Trataste de dividir entre cero :( \")"
      ],
      "metadata": {
        "id": "NXnSNG7u6phI",
        "outputId": "a4c22ef4-7005-40ae-8e21-b74db44e3c15",
        "colab": {
          "base_uri": "https://localhost:8080/",
          "height": 236
        }
      },
      "execution_count": null,
      "outputs": [
        {
          "output_type": "error",
          "ename": "NameError",
          "evalue": "ignored",
          "traceback": [
            "\u001b[0;31m---------------------------------------------------------------------------\u001b[0m",
            "\u001b[0;31mNameError\u001b[0m                                 Traceback (most recent call last)",
            "\u001b[0;32m<ipython-input-1-e7ddf6bc1201>\u001b[0m in \u001b[0;36m<module>\u001b[0;34m\u001b[0m\n\u001b[1;32m      1\u001b[0m \u001b[0;32mtry\u001b[0m\u001b[0;34m:\u001b[0m\u001b[0;34m\u001b[0m\u001b[0;34m\u001b[0m\u001b[0m\n\u001b[0;32m----> 2\u001b[0;31m     \u001b[0mres\u001b[0m \u001b[0;34m=\u001b[0m \u001b[0mdividir\u001b[0m\u001b[0;34m(\u001b[0m\u001b[0mnum\u001b[0m\u001b[0;34m,\u001b[0m \u001b[0mdiv\u001b[0m\u001b[0;34m)\u001b[0m\u001b[0;34m\u001b[0m\u001b[0;34m\u001b[0m\u001b[0m\n\u001b[0m\u001b[1;32m      3\u001b[0m     \u001b[0mprint\u001b[0m\u001b[0;34m(\u001b[0m\u001b[0mres\u001b[0m\u001b[0;34m)\u001b[0m\u001b[0;34m\u001b[0m\u001b[0;34m\u001b[0m\u001b[0m\n\u001b[1;32m      4\u001b[0m \u001b[0;32mexcept\u001b[0m \u001b[0mZeroDivisionError\u001b[0m\u001b[0;34m:\u001b[0m\u001b[0;34m\u001b[0m\u001b[0;34m\u001b[0m\u001b[0m\n\u001b[1;32m      5\u001b[0m     \u001b[0mprint\u001b[0m\u001b[0;34m(\u001b[0m\u001b[0;34m\"Trataste de dividir entre cero :( \"\u001b[0m\u001b[0;34m)\u001b[0m\u001b[0;34m\u001b[0m\u001b[0;34m\u001b[0m\u001b[0m\n",
            "\u001b[0;31mNameError\u001b[0m: name 'dividir' is not defined"
          ]
        }
      ]
    }
  ]
}