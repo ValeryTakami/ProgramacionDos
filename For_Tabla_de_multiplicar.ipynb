{
  "nbformat": 4,
  "nbformat_minor": 0,
  "metadata": {
    "colab": {
      "name": "For_Tabla de multiplicar",
      "provenance": [],
      "authorship_tag": "ABX9TyPUtaKErh35/5BSy2kFt9sw",
      "include_colab_link": true
    },
    "kernelspec": {
      "name": "python3",
      "display_name": "Python 3"
    },
    "language_info": {
      "name": "python"
    }
  },
  "cells": [
    {
      "cell_type": "markdown",
      "metadata": {
        "id": "view-in-github",
        "colab_type": "text"
      },
      "source": [
        "<a href=\"https://colab.research.google.com/github/ValeryTakami/ProgramacionDos/blob/main/For_Tabla_de_multiplicar.ipynb\" target=\"_parent\"><img src=\"https://colab.research.google.com/assets/colab-badge.svg\" alt=\"Open In Colab\"/></a>"
      ]
    },
    {
      "cell_type": "markdown",
      "source": [
        "Pedir un numero y imprimir su tabla de multiplicar \n",
        "\n",
        "Elaborado por:\n",
        "Valeria Hernandez Yañez\n",
        "23/08/2022"
      ],
      "metadata": {
        "id": "3rPI2kQqFmvC"
      }
    },
    {
      "cell_type": "code",
      "source": [
        "i= int(input(\"escribe un numero del 1 al 10: \"))\n",
        "for n in range(1,11):\n",
        "  print(n,\"x\", i,\"=\",(n*i))\n"
      ],
      "metadata": {
        "colab": {
          "base_uri": "https://localhost:8080/"
        },
        "id": "-ePL-QlMF_xA",
        "outputId": "36abcca7-69c5-40a4-b281-7c0a78aa1c02"
      },
      "execution_count": null,
      "outputs": [
        {
          "output_type": "stream",
          "name": "stdout",
          "text": [
            "escribe un numero del 1 al 10: 2\n",
            "1 x 2 = 2\n",
            "2 x 2 = 4\n",
            "3 x 2 = 6\n",
            "4 x 2 = 8\n",
            "5 x 2 = 10\n",
            "6 x 2 = 12\n",
            "7 x 2 = 14\n",
            "8 x 2 = 16\n",
            "9 x 2 = 18\n",
            "10 x 2 = 20\n"
          ]
        }
      ]
    }
  ]
}