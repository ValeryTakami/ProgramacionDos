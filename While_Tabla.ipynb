{
  "cells": [
    {
      "cell_type": "markdown",
      "metadata": {
        "id": "view-in-github",
        "colab_type": "text"
      },
      "source": [
        "<a href=\"https://colab.research.google.com/github/ValeryTakami/ProgramacionDos/blob/main/While_Tabla.ipynb\" target=\"_parent\"><img src=\"https://colab.research.google.com/assets/colab-badge.svg\" alt=\"Open In Colab\"/></a>"
      ]
    },
    {
      "cell_type": "markdown",
      "source": [
        "tabla de multiplicar por metodo while\n",
        "Elaborado por: Valeria Hernandez Yañez 23/08/2022"
      ],
      "metadata": {
        "id": "O1X700GLXQYF"
      }
    },
    {
      "cell_type": "code",
      "execution_count": 19,
      "metadata": {
        "colab": {
          "base_uri": "https://localhost:8080/"
        },
        "id": "og4J6TK9JfD-",
        "outputId": "45adafc6-6782-4848-a3dc-9887909425ba"
      },
      "outputs": [
        {
          "output_type": "stream",
          "name": "stdout",
          "text": [
            "Escribe la tabla9\n",
            "9  X  1 = 9\n",
            "9  X  2 = 18\n",
            "9  X  3 = 27\n",
            "9  X  4 = 36\n",
            "9  X  5 = 45\n",
            "9  X  6 = 54\n",
            "9  X  7 = 63\n",
            "9  X  8 = 72\n",
            "9  X  9 = 81\n",
            "9  X  10 = 90\n"
          ]
        }
      ],
      "source": [
        "i=1\n",
        "n= int (input(\"Escribe la tabla\"))\n",
        "while (i!=11):\n",
        "  print(n,\" X \",i,\"=\",n*i)\n",
        "  i=i+1 "
      ]
    }
  ],
  "metadata": {
    "colab": {
      "name": "While_Tabla",
      "provenance": [],
      "collapsed_sections": [],
      "authorship_tag": "ABX9TyMtU32QQmhZVXIMjT/rysbh",
      "include_colab_link": true
    },
    "kernelspec": {
      "display_name": "Python 3",
      "name": "python3"
    },
    "language_info": {
      "name": "python"
    }
  },
  "nbformat": 4,
  "nbformat_minor": 0
}