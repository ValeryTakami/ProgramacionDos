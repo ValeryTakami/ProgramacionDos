{
  "nbformat": 4,
  "nbformat_minor": 0,
  "metadata": {
    "colab": {
      "name": "Buscador_palabra",
      "provenance": [],
      "authorship_tag": "ABX9TyMSAPPx81JmoWIZ0PZU3FIN",
      "include_colab_link": true
    },
    "kernelspec": {
      "name": "python3",
      "display_name": "Python 3"
    },
    "language_info": {
      "name": "python"
    }
  },
  "cells": [
    {
      "cell_type": "markdown",
      "metadata": {
        "id": "view-in-github",
        "colab_type": "text"
      },
      "source": [
        "<a href=\"https://colab.research.google.com/github/ValeryTakami/ProgramacionDos/blob/main/Buscador_palabra.ipynb\" target=\"_parent\"><img src=\"https://colab.research.google.com/assets/colab-badge.svg\" alt=\"Open In Colab\"/></a>"
      ]
    },
    {
      "cell_type": "markdown",
      "source": [
        "se le pedira ingresar un texto al usuario donde el programa le dira el total de palabras ingresadas en el texto, ademas de que le pedira la palabra a buscar y saber cuantas veces se repite.\n",
        "\n",
        "realizado:\n",
        "valeria hernandez yañez\n",
        "27/08/2022"
      ],
      "metadata": {
        "id": "ojMJEUzXZjwy"
      }
    },
    {
      "cell_type": "code",
      "execution_count": 1,
      "metadata": {
        "colab": {
          "base_uri": "https://localhost:8080/"
        },
        "id": "awX6Bw8kfo3V",
        "outputId": "806a81dc-68b6-4acc-9242-eeb0a917480c"
      },
      "outputs": [
        {
          "name": "stdout",
          "output_type": "stream",
          "text": [
            "ingrese el texto: Soy un chico de la calle Camino a la ciudad con mi guitarra Sin molestar a nadie Voy cortando cadenas Estoy creciendo contra la miseria Y alguna que otra pena\n",
            "hay 30 palabras\n",
            " Palabra a buscar: un\n"
          ]
        },
        {
          "output_type": "execute_result",
          "data": {
            "text/plain": [
              "2"
            ]
          },
          "metadata": {},
          "execution_count": 1
        }
      ],
      "source": [
        "text = input(\"ingrese el texto: \")\n",
        "numPal = len(text.split())\n",
        "\n",
        "print(\"hay \" + str(numPal) + \" palabras\")\n",
        "text.count(text)\n",
        "\n",
        "Buscar = input(\" Palabra a buscar: \")\n",
        "numP = len(Buscar.split())\n",
        "\n",
        "text.count(Buscar)\n",
        "  \n",
        "\n",
        "\n"
      ]
    }
  ]
}