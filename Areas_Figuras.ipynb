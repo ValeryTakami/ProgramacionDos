{
  "nbformat": 4,
  "nbformat_minor": 0,
  "metadata": {
    "colab": {
      "name": "Areas_Figuras",
      "provenance": [],
      "authorship_tag": "ABX9TyN8eTXQk8+jAjAFIGBS33iq",
      "include_colab_link": true
    },
    "kernelspec": {
      "name": "python3",
      "display_name": "Python 3"
    },
    "language_info": {
      "name": "python"
    }
  },
  "cells": [
    {
      "cell_type": "markdown",
      "metadata": {
        "id": "view-in-github",
        "colab_type": "text"
      },
      "source": [
        "<a href=\"https://colab.research.google.com/github/ValeryTakami/ProgramacionDos/blob/main/Areas_Figuras.ipynb\" target=\"_parent\"><img src=\"https://colab.research.google.com/assets/colab-badge.svg\" alt=\"Open In Colab\"/></a>"
      ]
    },
    {
      "cell_type": "markdown",
      "source": [
        "Se calculara el area de 5 figuras donde se mostrara un menu a elegir la figura deseada, y posteriormente se pediran las medidad correspondientes.\n",
        "\n",
        "creado por:\n",
        "Valeria Hernández Yáñez\n",
        "24/08/22"
      ],
      "metadata": {
        "id": "rPLJlUiHOJZK"
      }
    },
    {
      "cell_type": "code",
      "execution_count": null,
      "metadata": {
        "colab": {
          "base_uri": "https://localhost:8080/"
        },
        "id": "Ra7aIuMqMLQ8",
        "outputId": "3f1f26c9-6fcc-4991-9657-459a573c078e"
      },
      "outputs": [
        {
          "output_type": "stream",
          "name": "stdout",
          "text": [
            "Calcular Áreas de figuras Geométricas.\n",
            "\n",
            "1.Cuadrado.\n",
            "2.Circulo.\n",
            "3.Triángulo.\n",
            "4.Trapecio.\n",
            "5.Rectángulo.\n",
            "\n",
            "Escoje una figura: 2\n",
            "Ingrese el radio del circulo: 3\n",
            "El area del circulo es 28.274 \n"
          ]
        }
      ],
      "source": [
        "import math\n",
        "\n",
        "\n",
        "def area_cuadrado(L):    \n",
        "    area=L**2\n",
        "    return  print('El area del cuadrado es: ', area)\n",
        "\n",
        "def area_circulo(R):    \n",
        "    area=math.pi*R**2\n",
        "    return print('El area del circulo es %.3f ' % area)\n",
        "\n",
        "def area_triangulo(b,h):\n",
        "    area=b*h/2\n",
        "    return print('El area del triángulo es: ', area)\n",
        "\n",
        "def area_trapecio(B,b,h):\n",
        "    area=(B+b)*h/2\n",
        "    return print('El area del Trapecio es: ', area)\n",
        "\n",
        "def area_rectangulo(b,h):\n",
        "    area=b*h\n",
        "    return print('El area del Rectángulo es: ', area)\n",
        "\n",
        "print(\"Calcular Áreas de figuras Geométricas.\\n\")\n",
        "print(\"1.Cuadrado.\\n2.Circulo.\\n3.Triángulo.\\n4.Trapecio.\\n5.Rectángulo.\\n\")\n",
        "\n",
        "x=int(input(\"Escoje una figura: \"))\n",
        "\n",
        "if x==1:\n",
        "    L=int(input('Ingrese uno de los lados: '))\n",
        "    area_cuadrado(L)\n",
        "    \n",
        "if x==2:\n",
        "    R=int(input('Ingrese el radio del circulo: '))\n",
        "    area_circulo(R)\n",
        "    \n",
        "if x==3:    \n",
        "    b=int(input('Ingrese la base: '))\n",
        "    h=int(input('Ingrese la altura: '))\n",
        "    area_triangulo(b,h)\n",
        "   \n",
        "if x==4:    \n",
        "    B=int(input('Ingrese la base 1:'))\n",
        "    b=int(input('Ingrese la base 2: '))\n",
        "    h=int(input('Ingrese la altura: '))\n",
        "    area_trapecio(B,b,h)\n",
        "    \n",
        "if x==5:    \n",
        "    b=int(input('Ingrese la base: '))\n",
        "    h=int(input('Ingrese la altura: '))\n",
        "    area_rectangulo(b,h)"
      ]
    }
  ]
}