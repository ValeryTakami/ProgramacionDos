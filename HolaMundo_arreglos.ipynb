{
  "nbformat": 4,
  "nbformat_minor": 0,
  "metadata": {
    "colab": {
      "name": "HolaMundo_arreglos",
      "provenance": [],
      "authorship_tag": "ABX9TyOTZUPEzQFD4s8uuFHQeZvS",
      "include_colab_link": true
    },
    "kernelspec": {
      "name": "python3",
      "display_name": "Python 3"
    },
    "language_info": {
      "name": "python"
    }
  },
  "cells": [
    {
      "cell_type": "markdown",
      "metadata": {
        "id": "view-in-github",
        "colab_type": "text"
      },
      "source": [
        "<a href=\"https://colab.research.google.com/github/ValeryTakami/ProgramacionDos/blob/main/HolaMundo_arreglos.ipynb\" target=\"_parent\"><img src=\"https://colab.research.google.com/assets/colab-badge.svg\" alt=\"Open In Colab\"/></a>"
      ]
    },
    {
      "cell_type": "markdown",
      "source": [
        "Elaborado por: Valeria Hernandez Yañez 23/08/2022\n",
        "\n"
      ],
      "metadata": {
        "id": "wSeaXHd1ecH2"
      }
    },
    {
      "cell_type": "code",
      "execution_count": null,
      "metadata": {
        "id": "h57-celyOrKr"
      },
      "outputs": [],
      "source": [
        "def holaMundo():\n",
        "  nombre=input(\"escribe tu nombre\")\n",
        "  print(\"Hola\",nombre ,\"Como estas?!\")\n",
        "\n",
        "holaMundo()\n"
      ]
    },
    {
      "cell_type": "markdown",
      "source": [
        "mismo ejercicio pero ahora con paso de parametros"
      ],
      "metadata": {
        "id": "SkJiisx2P-fw"
      }
    },
    {
      "cell_type": "code",
      "source": [
        "def saludo(nombre):\n",
        "  print(\"hola\",nombre ,\"como estas?!\")\n",
        "\n",
        "#nombre = input (\"escribe tu nombre\")\n",
        "#saludo(\"kori\")\n",
        "nombre = input (\"escribe tu nombre\")\n",
        "saludo(nombre)"
      ],
      "metadata": {
        "colab": {
          "base_uri": "https://localhost:8080/"
        },
        "id": "YQsaU_i8QCm_",
        "outputId": "0d4c45dd-8290-472d-dd66-9c1701fad64a"
      },
      "execution_count": null,
      "outputs": [
        {
          "output_type": "stream",
          "name": "stdout",
          "text": [
            "escribe tu nombrekori\n",
            "hola kori como estas?!\n"
          ]
        }
      ]
    }
  ]
}